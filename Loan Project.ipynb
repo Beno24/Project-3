{
 "cells": [
  {
   "cell_type": "markdown",
   "metadata": {},
   "source": [
    "## LOAN PROJECT\n",
    "\n",
    "This project's objective is to build a model to predict the loan defaulters of Lending Club to enhance decision making.\n",
    "\n",
    "NB: Defaulter = 1 and Fully Paid = 0"
   ]
  },
  {
   "cell_type": "code",
   "execution_count": 1,
   "metadata": {},
   "outputs": [],
   "source": [
    "import pandas as pd\n",
    "import numpy as np\n",
    "import matplotlib.pyplot as plt\n",
    "import seaborn as sns\n",
    "import missingno as msno\n",
    "%matplotlib inline"
   ]
  },
  {
   "cell_type": "code",
   "execution_count": 2,
   "metadata": {},
   "outputs": [],
   "source": [
    "from sklearn.model_selection import train_test_split\n",
    "\n",
    "from sklearn import svm\n",
    "from sklearn.linear_model import LogisticRegression\n",
    "from sklearn.ensemble import RandomForestClassifier\n",
    "import statsmodels.api as sm\n",
    "import statsmodels.formula.api as smf\n",
    "\n",
    "from sklearn import metrics"
   ]
  },
  {
   "cell_type": "code",
   "execution_count": 3,
   "metadata": {
    "scrolled": true
   },
   "outputs": [
    {
     "name": "stderr",
     "output_type": "stream",
     "text": [
      "C:\\Users\\GOLDSTEIN VENTURES\\Anaconda3\\lib\\site-packages\\IPython\\core\\interactiveshell.py:3058: DtypeWarning: Columns (47) have mixed types. Specify dtype option on import or set low_memory=False.\n",
      "  interactivity=interactivity, compiler=compiler, result=result)\n"
     ]
    }
   ],
   "source": [
    "df = pd.read_csv('C:\\\\Users\\\\GOLDSTEIN VENTURES\\\\Desktop\\\\Blossom\\\\lending-club-loan-data\\\\loan_sample.csv')"
   ]
  },
  {
   "cell_type": "code",
   "execution_count": 4,
   "metadata": {},
   "outputs": [
    {
     "data": {
      "text/plain": [
       "(35351, 145)"
      ]
     },
     "execution_count": 4,
     "metadata": {},
     "output_type": "execute_result"
    }
   ],
   "source": [
    "df.shape"
   ]
  },
  {
   "cell_type": "code",
   "execution_count": 5,
   "metadata": {},
   "outputs": [
    {
     "data": {
      "text/plain": [
       "id                       100.000000\n",
       "member_id                100.000000\n",
       "loan_amnt                  0.000000\n",
       "funded_amnt                0.000000\n",
       "funded_amnt_inv            0.000000\n",
       "                            ...    \n",
       "settlement_status         97.688891\n",
       "settlement_date           97.688891\n",
       "settlement_amount         97.688891\n",
       "settlement_percentage     97.688891\n",
       "settlement_term           97.688891\n",
       "Length: 145, dtype: float64"
      ]
     },
     "execution_count": 5,
     "metadata": {},
     "output_type": "execute_result"
    }
   ],
   "source": [
    "df.isna().mean()*100"
   ]
  },
  {
   "cell_type": "code",
   "execution_count": 6,
   "metadata": {},
   "outputs": [
    {
     "data": {
      "text/plain": [
       "id                       float64\n",
       "member_id                float64\n",
       "loan_amnt                  int64\n",
       "funded_amnt                int64\n",
       "funded_amnt_inv          float64\n",
       "                          ...   \n",
       "settlement_status         object\n",
       "settlement_date           object\n",
       "settlement_amount        float64\n",
       "settlement_percentage    float64\n",
       "settlement_term          float64\n",
       "Length: 145, dtype: object"
      ]
     },
     "execution_count": 6,
     "metadata": {},
     "output_type": "execute_result"
    }
   ],
   "source": [
    "df.dtypes"
   ]
  },
  {
   "cell_type": "markdown",
   "metadata": {},
   "source": [
    "## EDA  Section"
   ]
  },
  {
   "cell_type": "code",
   "execution_count": 7,
   "metadata": {},
   "outputs": [
    {
     "data": {
      "text/plain": [
       "(35351, 87)"
      ]
     },
     "execution_count": 7,
     "metadata": {},
     "output_type": "execute_result"
    }
   ],
   "source": [
    "df = df.dropna(axis=1, thresh=(0.8*df.shape[0]))\n",
    "df.shape"
   ]
  },
  {
   "cell_type": "code",
   "execution_count": 8,
   "metadata": {
    "scrolled": true
   },
   "outputs": [
    {
     "data": {
      "text/html": [
       "<div>\n",
       "<style scoped>\n",
       "    .dataframe tbody tr th:only-of-type {\n",
       "        vertical-align: middle;\n",
       "    }\n",
       "\n",
       "    .dataframe tbody tr th {\n",
       "        vertical-align: top;\n",
       "    }\n",
       "\n",
       "    .dataframe thead th {\n",
       "        text-align: right;\n",
       "    }\n",
       "</style>\n",
       "<table border=\"1\" class=\"dataframe\">\n",
       "  <thead>\n",
       "    <tr style=\"text-align: right;\">\n",
       "      <th></th>\n",
       "      <th>loan_amnt</th>\n",
       "      <th>funded_amnt</th>\n",
       "      <th>funded_amnt_inv</th>\n",
       "      <th>term</th>\n",
       "      <th>int_rate</th>\n",
       "      <th>installment</th>\n",
       "      <th>grade</th>\n",
       "      <th>sub_grade</th>\n",
       "      <th>emp_title</th>\n",
       "      <th>emp_length</th>\n",
       "      <th>...</th>\n",
       "      <th>percent_bc_gt_75</th>\n",
       "      <th>pub_rec_bankruptcies</th>\n",
       "      <th>tax_liens</th>\n",
       "      <th>tot_hi_cred_lim</th>\n",
       "      <th>total_bal_ex_mort</th>\n",
       "      <th>total_bc_limit</th>\n",
       "      <th>total_il_high_credit_limit</th>\n",
       "      <th>hardship_flag</th>\n",
       "      <th>disbursement_method</th>\n",
       "      <th>debt_settlement_flag</th>\n",
       "    </tr>\n",
       "  </thead>\n",
       "  <tbody>\n",
       "    <tr>\n",
       "      <th>0</th>\n",
       "      <td>22000</td>\n",
       "      <td>22000</td>\n",
       "      <td>22000.0</td>\n",
       "      <td>36 months</td>\n",
       "      <td>9.17</td>\n",
       "      <td>701.34</td>\n",
       "      <td>B</td>\n",
       "      <td>B2</td>\n",
       "      <td>Registered Nurse</td>\n",
       "      <td>5 years</td>\n",
       "      <td>...</td>\n",
       "      <td>50.0</td>\n",
       "      <td>0.0</td>\n",
       "      <td>0.0</td>\n",
       "      <td>56900.0</td>\n",
       "      <td>33797.0</td>\n",
       "      <td>47600.0</td>\n",
       "      <td>0.0</td>\n",
       "      <td>N</td>\n",
       "      <td>Cash</td>\n",
       "      <td>N</td>\n",
       "    </tr>\n",
       "    <tr>\n",
       "      <th>1</th>\n",
       "      <td>8000</td>\n",
       "      <td>8000</td>\n",
       "      <td>8000.0</td>\n",
       "      <td>36 months</td>\n",
       "      <td>5.32</td>\n",
       "      <td>240.92</td>\n",
       "      <td>A</td>\n",
       "      <td>A1</td>\n",
       "      <td>Foreman</td>\n",
       "      <td>10+ years</td>\n",
       "      <td>...</td>\n",
       "      <td>0.0</td>\n",
       "      <td>1.0</td>\n",
       "      <td>0.0</td>\n",
       "      <td>236146.0</td>\n",
       "      <td>17380.0</td>\n",
       "      <td>10500.0</td>\n",
       "      <td>18039.0</td>\n",
       "      <td>N</td>\n",
       "      <td>Cash</td>\n",
       "      <td>N</td>\n",
       "    </tr>\n",
       "    <tr>\n",
       "      <th>2</th>\n",
       "      <td>6000</td>\n",
       "      <td>6000</td>\n",
       "      <td>6000.0</td>\n",
       "      <td>36 months</td>\n",
       "      <td>9.75</td>\n",
       "      <td>192.90</td>\n",
       "      <td>B</td>\n",
       "      <td>B3</td>\n",
       "      <td>Staff Accountant</td>\n",
       "      <td>1 year</td>\n",
       "      <td>...</td>\n",
       "      <td>33.3</td>\n",
       "      <td>0.0</td>\n",
       "      <td>0.0</td>\n",
       "      <td>89841.0</td>\n",
       "      <td>41070.0</td>\n",
       "      <td>16000.0</td>\n",
       "      <td>32641.0</td>\n",
       "      <td>N</td>\n",
       "      <td>Cash</td>\n",
       "      <td>N</td>\n",
       "    </tr>\n",
       "  </tbody>\n",
       "</table>\n",
       "<p>3 rows × 87 columns</p>\n",
       "</div>"
      ],
      "text/plain": [
       "   loan_amnt  funded_amnt  funded_amnt_inv        term  int_rate  installment  \\\n",
       "0      22000        22000          22000.0   36 months      9.17       701.34   \n",
       "1       8000         8000           8000.0   36 months      5.32       240.92   \n",
       "2       6000         6000           6000.0   36 months      9.75       192.90   \n",
       "\n",
       "  grade sub_grade         emp_title emp_length  ... percent_bc_gt_75  \\\n",
       "0     B        B2  Registered Nurse    5 years  ...             50.0   \n",
       "1     A        A1           Foreman  10+ years  ...              0.0   \n",
       "2     B        B3  Staff Accountant     1 year  ...             33.3   \n",
       "\n",
       "   pub_rec_bankruptcies tax_liens tot_hi_cred_lim  total_bal_ex_mort  \\\n",
       "0                   0.0       0.0         56900.0            33797.0   \n",
       "1                   1.0       0.0        236146.0            17380.0   \n",
       "2                   0.0       0.0         89841.0            41070.0   \n",
       "\n",
       "  total_bc_limit total_il_high_credit_limit hardship_flag disbursement_method  \\\n",
       "0        47600.0                        0.0             N                Cash   \n",
       "1        10500.0                    18039.0             N                Cash   \n",
       "2        16000.0                    32641.0             N                Cash   \n",
       "\n",
       "  debt_settlement_flag  \n",
       "0                    N  \n",
       "1                    N  \n",
       "2                    N  \n",
       "\n",
       "[3 rows x 87 columns]"
      ]
     },
     "execution_count": 8,
     "metadata": {},
     "output_type": "execute_result"
    }
   ],
   "source": [
    "df.head(3)"
   ]
  },
  {
   "cell_type": "code",
   "execution_count": 9,
   "metadata": {
    "scrolled": false
   },
   "outputs": [
    {
     "data": {
      "text/plain": [
       "0    28298\n",
       "1     7053\n",
       "Name: loan_status, dtype: int64"
      ]
     },
     "execution_count": 9,
     "metadata": {},
     "output_type": "execute_result"
    }
   ],
   "source": [
    "df.loan_status.value_counts()"
   ]
  },
  {
   "cell_type": "code",
   "execution_count": 10,
   "metadata": {},
   "outputs": [
    {
     "data": {
      "text/plain": [
       "Index(['loan_amnt', 'funded_amnt', 'funded_amnt_inv', 'term', 'int_rate',\n",
       "       'installment', 'grade', 'sub_grade', 'emp_title', 'emp_length',\n",
       "       'home_ownership', 'annual_inc', 'verification_status', 'issue_d',\n",
       "       'loan_status', 'pymnt_plan', 'purpose', 'title', 'zip_code',\n",
       "       'addr_state', 'dti', 'delinq_2yrs', 'earliest_cr_line',\n",
       "       'inq_last_6mths', 'open_acc', 'pub_rec', 'revol_bal', 'revol_util',\n",
       "       'total_acc', 'initial_list_status', 'out_prncp', 'out_prncp_inv',\n",
       "       'total_pymnt', 'total_pymnt_inv', 'total_rec_prncp', 'total_rec_int',\n",
       "       'total_rec_late_fee', 'recoveries', 'collection_recovery_fee',\n",
       "       'last_pymnt_d', 'last_pymnt_amnt', 'last_credit_pull_d',\n",
       "       'collections_12_mths_ex_med', 'policy_code', 'application_type',\n",
       "       'acc_now_delinq', 'tot_coll_amt', 'tot_cur_bal', 'total_rev_hi_lim',\n",
       "       'acc_open_past_24mths', 'avg_cur_bal', 'bc_open_to_buy', 'bc_util',\n",
       "       'chargeoff_within_12_mths', 'delinq_amnt', 'mo_sin_old_il_acct',\n",
       "       'mo_sin_old_rev_tl_op', 'mo_sin_rcnt_rev_tl_op', 'mo_sin_rcnt_tl',\n",
       "       'mort_acc', 'mths_since_recent_bc', 'mths_since_recent_inq',\n",
       "       'num_accts_ever_120_pd', 'num_actv_bc_tl', 'num_actv_rev_tl',\n",
       "       'num_bc_sats', 'num_bc_tl', 'num_il_tl', 'num_op_rev_tl',\n",
       "       'num_rev_accts', 'num_rev_tl_bal_gt_0', 'num_sats', 'num_tl_120dpd_2m',\n",
       "       'num_tl_30dpd', 'num_tl_90g_dpd_24m', 'num_tl_op_past_12m',\n",
       "       'pct_tl_nvr_dlq', 'percent_bc_gt_75', 'pub_rec_bankruptcies',\n",
       "       'tax_liens', 'tot_hi_cred_lim', 'total_bal_ex_mort', 'total_bc_limit',\n",
       "       'total_il_high_credit_limit', 'hardship_flag', 'disbursement_method',\n",
       "       'debt_settlement_flag'],\n",
       "      dtype='object')"
      ]
     },
     "execution_count": 10,
     "metadata": {},
     "output_type": "execute_result"
    }
   ],
   "source": [
    "df.columns"
   ]
  },
  {
   "cell_type": "code",
   "execution_count": 11,
   "metadata": {
    "scrolled": true
   },
   "outputs": [
    {
     "data": {
      "text/html": [
       "<div>\n",
       "<style scoped>\n",
       "    .dataframe tbody tr th:only-of-type {\n",
       "        vertical-align: middle;\n",
       "    }\n",
       "\n",
       "    .dataframe tbody tr th {\n",
       "        vertical-align: top;\n",
       "    }\n",
       "\n",
       "    .dataframe thead th {\n",
       "        text-align: right;\n",
       "    }\n",
       "</style>\n",
       "<table border=\"1\" class=\"dataframe\">\n",
       "  <thead>\n",
       "    <tr style=\"text-align: right;\">\n",
       "      <th></th>\n",
       "      <th>loan_amnt</th>\n",
       "      <th>funded_amnt</th>\n",
       "      <th>funded_amnt_inv</th>\n",
       "      <th>int_rate</th>\n",
       "      <th>installment</th>\n",
       "      <th>annual_inc</th>\n",
       "      <th>loan_status</th>\n",
       "      <th>dti</th>\n",
       "      <th>delinq_2yrs</th>\n",
       "      <th>inq_last_6mths</th>\n",
       "      <th>...</th>\n",
       "      <th>num_tl_90g_dpd_24m</th>\n",
       "      <th>num_tl_op_past_12m</th>\n",
       "      <th>pct_tl_nvr_dlq</th>\n",
       "      <th>percent_bc_gt_75</th>\n",
       "      <th>pub_rec_bankruptcies</th>\n",
       "      <th>tax_liens</th>\n",
       "      <th>tot_hi_cred_lim</th>\n",
       "      <th>total_bal_ex_mort</th>\n",
       "      <th>total_bc_limit</th>\n",
       "      <th>total_il_high_credit_limit</th>\n",
       "    </tr>\n",
       "  </thead>\n",
       "  <tbody>\n",
       "    <tr>\n",
       "      <th>count</th>\n",
       "      <td>35351.000000</td>\n",
       "      <td>35351.000000</td>\n",
       "      <td>35351.000000</td>\n",
       "      <td>35351.000000</td>\n",
       "      <td>35351.000000</td>\n",
       "      <td>3.535100e+04</td>\n",
       "      <td>35351.000000</td>\n",
       "      <td>35344.000000</td>\n",
       "      <td>35351.000000</td>\n",
       "      <td>35351.000000</td>\n",
       "      <td>...</td>\n",
       "      <td>33595.000000</td>\n",
       "      <td>33595.000000</td>\n",
       "      <td>33589.000000</td>\n",
       "      <td>33778.000000</td>\n",
       "      <td>35332.000000</td>\n",
       "      <td>35348.000000</td>\n",
       "      <td>3.359500e+04</td>\n",
       "      <td>34153.000000</td>\n",
       "      <td>34153.000000</td>\n",
       "      <td>33595.000000</td>\n",
       "    </tr>\n",
       "    <tr>\n",
       "      <th>mean</th>\n",
       "      <td>14432.873186</td>\n",
       "      <td>14423.447003</td>\n",
       "      <td>14400.359025</td>\n",
       "      <td>13.240928</td>\n",
       "      <td>438.718958</td>\n",
       "      <td>7.594010e+04</td>\n",
       "      <td>0.199513</td>\n",
       "      <td>18.216516</td>\n",
       "      <td>0.316144</td>\n",
       "      <td>0.653928</td>\n",
       "      <td>...</td>\n",
       "      <td>0.085459</td>\n",
       "      <td>2.176306</td>\n",
       "      <td>94.130248</td>\n",
       "      <td>45.144742</td>\n",
       "      <td>0.135939</td>\n",
       "      <td>0.053666</td>\n",
       "      <td>1.744788e+05</td>\n",
       "      <td>49551.741370</td>\n",
       "      <td>21445.849471</td>\n",
       "      <td>41945.492901</td>\n",
       "    </tr>\n",
       "    <tr>\n",
       "      <th>std</th>\n",
       "      <td>8713.133473</td>\n",
       "      <td>8706.556027</td>\n",
       "      <td>8709.839333</td>\n",
       "      <td>4.747225</td>\n",
       "      <td>261.703743</td>\n",
       "      <td>5.316194e+04</td>\n",
       "      <td>0.399640</td>\n",
       "      <td>9.748012</td>\n",
       "      <td>0.888697</td>\n",
       "      <td>0.931002</td>\n",
       "      <td>...</td>\n",
       "      <td>0.500689</td>\n",
       "      <td>1.833460</td>\n",
       "      <td>8.799429</td>\n",
       "      <td>35.988121</td>\n",
       "      <td>0.376494</td>\n",
       "      <td>0.381230</td>\n",
       "      <td>1.842127e+05</td>\n",
       "      <td>47660.721566</td>\n",
       "      <td>21004.541763</td>\n",
       "      <td>43396.764379</td>\n",
       "    </tr>\n",
       "    <tr>\n",
       "      <th>min</th>\n",
       "      <td>1000.000000</td>\n",
       "      <td>1000.000000</td>\n",
       "      <td>0.000000</td>\n",
       "      <td>5.310000</td>\n",
       "      <td>28.750000</td>\n",
       "      <td>0.000000e+00</td>\n",
       "      <td>0.000000</td>\n",
       "      <td>0.000000</td>\n",
       "      <td>0.000000</td>\n",
       "      <td>0.000000</td>\n",
       "      <td>...</td>\n",
       "      <td>0.000000</td>\n",
       "      <td>0.000000</td>\n",
       "      <td>20.000000</td>\n",
       "      <td>0.000000</td>\n",
       "      <td>0.000000</td>\n",
       "      <td>0.000000</td>\n",
       "      <td>0.000000e+00</td>\n",
       "      <td>0.000000</td>\n",
       "      <td>0.000000</td>\n",
       "      <td>0.000000</td>\n",
       "    </tr>\n",
       "    <tr>\n",
       "      <th>25%</th>\n",
       "      <td>8000.000000</td>\n",
       "      <td>8000.000000</td>\n",
       "      <td>7925.000000</td>\n",
       "      <td>9.750000</td>\n",
       "      <td>248.480000</td>\n",
       "      <td>4.576000e+04</td>\n",
       "      <td>0.000000</td>\n",
       "      <td>11.710000</td>\n",
       "      <td>0.000000</td>\n",
       "      <td>0.000000</td>\n",
       "      <td>...</td>\n",
       "      <td>0.000000</td>\n",
       "      <td>1.000000</td>\n",
       "      <td>91.300000</td>\n",
       "      <td>10.000000</td>\n",
       "      <td>0.000000</td>\n",
       "      <td>0.000000</td>\n",
       "      <td>4.981000e+04</td>\n",
       "      <td>20876.000000</td>\n",
       "      <td>7800.000000</td>\n",
       "      <td>14579.500000</td>\n",
       "    </tr>\n",
       "    <tr>\n",
       "      <th>50%</th>\n",
       "      <td>12000.000000</td>\n",
       "      <td>12000.000000</td>\n",
       "      <td>12000.000000</td>\n",
       "      <td>12.740000</td>\n",
       "      <td>375.430000</td>\n",
       "      <td>6.500000e+04</td>\n",
       "      <td>0.000000</td>\n",
       "      <td>17.600000</td>\n",
       "      <td>0.000000</td>\n",
       "      <td>0.000000</td>\n",
       "      <td>...</td>\n",
       "      <td>0.000000</td>\n",
       "      <td>2.000000</td>\n",
       "      <td>97.900000</td>\n",
       "      <td>42.900000</td>\n",
       "      <td>0.000000</td>\n",
       "      <td>0.000000</td>\n",
       "      <td>1.125340e+05</td>\n",
       "      <td>37268.000000</td>\n",
       "      <td>15000.000000</td>\n",
       "      <td>31563.000000</td>\n",
       "    </tr>\n",
       "    <tr>\n",
       "      <th>75%</th>\n",
       "      <td>20000.000000</td>\n",
       "      <td>20000.000000</td>\n",
       "      <td>20000.000000</td>\n",
       "      <td>15.990000</td>\n",
       "      <td>581.450000</td>\n",
       "      <td>9.000000e+04</td>\n",
       "      <td>0.000000</td>\n",
       "      <td>23.992500</td>\n",
       "      <td>0.000000</td>\n",
       "      <td>1.000000</td>\n",
       "      <td>...</td>\n",
       "      <td>0.000000</td>\n",
       "      <td>3.000000</td>\n",
       "      <td>100.000000</td>\n",
       "      <td>75.000000</td>\n",
       "      <td>0.000000</td>\n",
       "      <td>0.000000</td>\n",
       "      <td>2.520630e+05</td>\n",
       "      <td>62255.000000</td>\n",
       "      <td>28000.000000</td>\n",
       "      <td>56361.000000</td>\n",
       "    </tr>\n",
       "    <tr>\n",
       "      <th>max</th>\n",
       "      <td>40000.000000</td>\n",
       "      <td>40000.000000</td>\n",
       "      <td>40000.000000</td>\n",
       "      <td>30.990000</td>\n",
       "      <td>1569.110000</td>\n",
       "      <td>1.500006e+06</td>\n",
       "      <td>1.000000</td>\n",
       "      <td>506.730000</td>\n",
       "      <td>25.000000</td>\n",
       "      <td>6.000000</td>\n",
       "      <td>...</td>\n",
       "      <td>22.000000</td>\n",
       "      <td>17.000000</td>\n",
       "      <td>100.000000</td>\n",
       "      <td>100.000000</td>\n",
       "      <td>5.000000</td>\n",
       "      <td>22.000000</td>\n",
       "      <td>9.999999e+06</td>\n",
       "      <td>687146.000000</td>\n",
       "      <td>363900.000000</td>\n",
       "      <td>668927.000000</td>\n",
       "    </tr>\n",
       "  </tbody>\n",
       "</table>\n",
       "<p>8 rows × 66 columns</p>\n",
       "</div>"
      ],
      "text/plain": [
       "          loan_amnt   funded_amnt  funded_amnt_inv      int_rate  \\\n",
       "count  35351.000000  35351.000000     35351.000000  35351.000000   \n",
       "mean   14432.873186  14423.447003     14400.359025     13.240928   \n",
       "std     8713.133473   8706.556027      8709.839333      4.747225   \n",
       "min     1000.000000   1000.000000         0.000000      5.310000   \n",
       "25%     8000.000000   8000.000000      7925.000000      9.750000   \n",
       "50%    12000.000000  12000.000000     12000.000000     12.740000   \n",
       "75%    20000.000000  20000.000000     20000.000000     15.990000   \n",
       "max    40000.000000  40000.000000     40000.000000     30.990000   \n",
       "\n",
       "        installment    annual_inc   loan_status           dti   delinq_2yrs  \\\n",
       "count  35351.000000  3.535100e+04  35351.000000  35344.000000  35351.000000   \n",
       "mean     438.718958  7.594010e+04      0.199513     18.216516      0.316144   \n",
       "std      261.703743  5.316194e+04      0.399640      9.748012      0.888697   \n",
       "min       28.750000  0.000000e+00      0.000000      0.000000      0.000000   \n",
       "25%      248.480000  4.576000e+04      0.000000     11.710000      0.000000   \n",
       "50%      375.430000  6.500000e+04      0.000000     17.600000      0.000000   \n",
       "75%      581.450000  9.000000e+04      0.000000     23.992500      0.000000   \n",
       "max     1569.110000  1.500006e+06      1.000000    506.730000     25.000000   \n",
       "\n",
       "       inq_last_6mths  ...  num_tl_90g_dpd_24m  num_tl_op_past_12m  \\\n",
       "count    35351.000000  ...        33595.000000        33595.000000   \n",
       "mean         0.653928  ...            0.085459            2.176306   \n",
       "std          0.931002  ...            0.500689            1.833460   \n",
       "min          0.000000  ...            0.000000            0.000000   \n",
       "25%          0.000000  ...            0.000000            1.000000   \n",
       "50%          0.000000  ...            0.000000            2.000000   \n",
       "75%          1.000000  ...            0.000000            3.000000   \n",
       "max          6.000000  ...           22.000000           17.000000   \n",
       "\n",
       "       pct_tl_nvr_dlq  percent_bc_gt_75  pub_rec_bankruptcies     tax_liens  \\\n",
       "count    33589.000000      33778.000000          35332.000000  35348.000000   \n",
       "mean        94.130248         45.144742              0.135939      0.053666   \n",
       "std          8.799429         35.988121              0.376494      0.381230   \n",
       "min         20.000000          0.000000              0.000000      0.000000   \n",
       "25%         91.300000         10.000000              0.000000      0.000000   \n",
       "50%         97.900000         42.900000              0.000000      0.000000   \n",
       "75%        100.000000         75.000000              0.000000      0.000000   \n",
       "max        100.000000        100.000000              5.000000     22.000000   \n",
       "\n",
       "       tot_hi_cred_lim  total_bal_ex_mort  total_bc_limit  \\\n",
       "count     3.359500e+04       34153.000000    34153.000000   \n",
       "mean      1.744788e+05       49551.741370    21445.849471   \n",
       "std       1.842127e+05       47660.721566    21004.541763   \n",
       "min       0.000000e+00           0.000000        0.000000   \n",
       "25%       4.981000e+04       20876.000000     7800.000000   \n",
       "50%       1.125340e+05       37268.000000    15000.000000   \n",
       "75%       2.520630e+05       62255.000000    28000.000000   \n",
       "max       9.999999e+06      687146.000000   363900.000000   \n",
       "\n",
       "       total_il_high_credit_limit  \n",
       "count                33595.000000  \n",
       "mean                 41945.492901  \n",
       "std                  43396.764379  \n",
       "min                      0.000000  \n",
       "25%                  14579.500000  \n",
       "50%                  31563.000000  \n",
       "75%                  56361.000000  \n",
       "max                 668927.000000  \n",
       "\n",
       "[8 rows x 66 columns]"
      ]
     },
     "execution_count": 11,
     "metadata": {},
     "output_type": "execute_result"
    }
   ],
   "source": [
    "df.describe()"
   ]
  },
  {
   "cell_type": "code",
   "execution_count": 12,
   "metadata": {},
   "outputs": [
    {
     "data": {
      "text/plain": [
       "loan_amnt                        0\n",
       "funded_amnt                      0\n",
       "funded_amnt_inv                  0\n",
       "term                             0\n",
       "int_rate                         0\n",
       "                              ... \n",
       "total_bc_limit                1198\n",
       "total_il_high_credit_limit    1756\n",
       "hardship_flag                    1\n",
       "disbursement_method              1\n",
       "debt_settlement_flag             1\n",
       "Length: 87, dtype: int64"
      ]
     },
     "execution_count": 12,
     "metadata": {},
     "output_type": "execute_result"
    }
   ],
   "source": [
    "df.isna().sum()"
   ]
  },
  {
   "cell_type": "code",
   "execution_count": 13,
   "metadata": {},
   "outputs": [
    {
     "data": {
      "text/plain": [
       "<matplotlib.axes._subplots.AxesSubplot at 0x4678df7c8>"
      ]
     },
     "execution_count": 13,
     "metadata": {},
     "output_type": "execute_result"
    },
    {
     "data": {
      "image/png": "[encoded data removed]",
      "text/plain": [
       "<Figure size 432x288 with 1 Axes>"
      ]
     },
     "metadata": {
      "needs_background": "light"
     },
     "output_type": "display_data"
    }
   ],
   "source": [
    "sns.countplot(x='loan_status',data=df)"
   ]
  },
  {
   "cell_type": "code",
   "execution_count": 14,
   "metadata": {
    "scrolled": false
   },
   "outputs": [
    {
     "data": {
      "text/plain": [
       "<matplotlib.axes._subplots.AxesSubplot at 0x467a89788>"
      ]
     },
     "execution_count": 14,
     "metadata": {},
     "output_type": "execute_result"
    },
    {
     "data": {
      "image/png": "[encoded data removed]",
      "text/plain": [
       "<Figure size 1296x432 with 1 Axes>"
      ]
     },
     "metadata": {
      "needs_background": "light"
     },
     "output_type": "display_data"
    }
   ],
   "source": [
    "df.corr()['loan_status'].sort_values().plot(kind='bar', figsize=(18, 6))"
   ]
  },
  {
   "cell_type": "code",
   "execution_count": 15,
   "metadata": {
    "scrolled": true
   },
   "outputs": [
    {
     "data": {
      "text/html": [
       "<div>\n",
       "<style scoped>\n",
       "    .dataframe tbody tr th:only-of-type {\n",
       "        vertical-align: middle;\n",
       "    }\n",
       "\n",
       "    .dataframe tbody tr th {\n",
       "        vertical-align: top;\n",
       "    }\n",
       "\n",
       "    .dataframe thead th {\n",
       "        text-align: right;\n",
       "    }\n",
       "</style>\n",
       "<table border=\"1\" class=\"dataframe\">\n",
       "  <thead>\n",
       "    <tr style=\"text-align: right;\">\n",
       "      <th></th>\n",
       "      <th>loan_amnt</th>\n",
       "      <th>funded_amnt</th>\n",
       "      <th>funded_amnt_inv</th>\n",
       "      <th>int_rate</th>\n",
       "      <th>installment</th>\n",
       "      <th>annual_inc</th>\n",
       "      <th>loan_status</th>\n",
       "      <th>dti</th>\n",
       "      <th>delinq_2yrs</th>\n",
       "      <th>inq_last_6mths</th>\n",
       "      <th>...</th>\n",
       "      <th>num_tl_90g_dpd_24m</th>\n",
       "      <th>num_tl_op_past_12m</th>\n",
       "      <th>pct_tl_nvr_dlq</th>\n",
       "      <th>percent_bc_gt_75</th>\n",
       "      <th>pub_rec_bankruptcies</th>\n",
       "      <th>tax_liens</th>\n",
       "      <th>tot_hi_cred_lim</th>\n",
       "      <th>total_bal_ex_mort</th>\n",
       "      <th>total_bc_limit</th>\n",
       "      <th>total_il_high_credit_limit</th>\n",
       "    </tr>\n",
       "  </thead>\n",
       "  <tbody>\n",
       "    <tr>\n",
       "      <th>0</th>\n",
       "      <td>22000</td>\n",
       "      <td>22000</td>\n",
       "      <td>22000.0</td>\n",
       "      <td>9.17</td>\n",
       "      <td>701.34</td>\n",
       "      <td>73000.0</td>\n",
       "      <td>0</td>\n",
       "      <td>13.16</td>\n",
       "      <td>0.0</td>\n",
       "      <td>2.0</td>\n",
       "      <td>...</td>\n",
       "      <td>0.0</td>\n",
       "      <td>2.0</td>\n",
       "      <td>90.9</td>\n",
       "      <td>50.0</td>\n",
       "      <td>0.0</td>\n",
       "      <td>0.0</td>\n",
       "      <td>56900.0</td>\n",
       "      <td>33797.0</td>\n",
       "      <td>47600.0</td>\n",
       "      <td>0.0</td>\n",
       "    </tr>\n",
       "    <tr>\n",
       "      <th>1</th>\n",
       "      <td>8000</td>\n",
       "      <td>8000</td>\n",
       "      <td>8000.0</td>\n",
       "      <td>5.32</td>\n",
       "      <td>240.92</td>\n",
       "      <td>89000.0</td>\n",
       "      <td>0</td>\n",
       "      <td>6.63</td>\n",
       "      <td>0.0</td>\n",
       "      <td>0.0</td>\n",
       "      <td>...</td>\n",
       "      <td>0.0</td>\n",
       "      <td>1.0</td>\n",
       "      <td>100.0</td>\n",
       "      <td>0.0</td>\n",
       "      <td>1.0</td>\n",
       "      <td>0.0</td>\n",
       "      <td>236146.0</td>\n",
       "      <td>17380.0</td>\n",
       "      <td>10500.0</td>\n",
       "      <td>18039.0</td>\n",
       "    </tr>\n",
       "    <tr>\n",
       "      <th>2</th>\n",
       "      <td>6000</td>\n",
       "      <td>6000</td>\n",
       "      <td>6000.0</td>\n",
       "      <td>9.75</td>\n",
       "      <td>192.90</td>\n",
       "      <td>65000.0</td>\n",
       "      <td>0</td>\n",
       "      <td>24.26</td>\n",
       "      <td>0.0</td>\n",
       "      <td>0.0</td>\n",
       "      <td>...</td>\n",
       "      <td>0.0</td>\n",
       "      <td>2.0</td>\n",
       "      <td>100.0</td>\n",
       "      <td>33.3</td>\n",
       "      <td>0.0</td>\n",
       "      <td>0.0</td>\n",
       "      <td>89841.0</td>\n",
       "      <td>41070.0</td>\n",
       "      <td>16000.0</td>\n",
       "      <td>32641.0</td>\n",
       "    </tr>\n",
       "    <tr>\n",
       "      <th>3</th>\n",
       "      <td>5300</td>\n",
       "      <td>5300</td>\n",
       "      <td>5300.0</td>\n",
       "      <td>12.39</td>\n",
       "      <td>177.03</td>\n",
       "      <td>53486.0</td>\n",
       "      <td>0</td>\n",
       "      <td>32.87</td>\n",
       "      <td>0.0</td>\n",
       "      <td>0.0</td>\n",
       "      <td>...</td>\n",
       "      <td>0.0</td>\n",
       "      <td>2.0</td>\n",
       "      <td>100.0</td>\n",
       "      <td>50.0</td>\n",
       "      <td>0.0</td>\n",
       "      <td>0.0</td>\n",
       "      <td>233175.0</td>\n",
       "      <td>42735.0</td>\n",
       "      <td>17300.0</td>\n",
       "      <td>22828.0</td>\n",
       "    </tr>\n",
       "    <tr>\n",
       "      <th>4</th>\n",
       "      <td>8000</td>\n",
       "      <td>8000</td>\n",
       "      <td>8000.0</td>\n",
       "      <td>12.49</td>\n",
       "      <td>267.60</td>\n",
       "      <td>72550.0</td>\n",
       "      <td>0</td>\n",
       "      <td>10.72</td>\n",
       "      <td>0.0</td>\n",
       "      <td>0.0</td>\n",
       "      <td>...</td>\n",
       "      <td>0.0</td>\n",
       "      <td>1.0</td>\n",
       "      <td>60.0</td>\n",
       "      <td>100.0</td>\n",
       "      <td>0.0</td>\n",
       "      <td>0.0</td>\n",
       "      <td>211884.0</td>\n",
       "      <td>8147.0</td>\n",
       "      <td>6200.0</td>\n",
       "      <td>17684.0</td>\n",
       "    </tr>\n",
       "    <tr>\n",
       "      <th>...</th>\n",
       "      <td>...</td>\n",
       "      <td>...</td>\n",
       "      <td>...</td>\n",
       "      <td>...</td>\n",
       "      <td>...</td>\n",
       "      <td>...</td>\n",
       "      <td>...</td>\n",
       "      <td>...</td>\n",
       "      <td>...</td>\n",
       "      <td>...</td>\n",
       "      <td>...</td>\n",
       "      <td>...</td>\n",
       "      <td>...</td>\n",
       "      <td>...</td>\n",
       "      <td>...</td>\n",
       "      <td>...</td>\n",
       "      <td>...</td>\n",
       "      <td>...</td>\n",
       "      <td>...</td>\n",
       "      <td>...</td>\n",
       "      <td>...</td>\n",
       "    </tr>\n",
       "    <tr>\n",
       "      <th>35346</th>\n",
       "      <td>10000</td>\n",
       "      <td>10000</td>\n",
       "      <td>10000.0</td>\n",
       "      <td>9.93</td>\n",
       "      <td>322.35</td>\n",
       "      <td>45000.0</td>\n",
       "      <td>1</td>\n",
       "      <td>5.09</td>\n",
       "      <td>0.0</td>\n",
       "      <td>1.0</td>\n",
       "      <td>...</td>\n",
       "      <td>0.0</td>\n",
       "      <td>3.0</td>\n",
       "      <td>100.0</td>\n",
       "      <td>20.0</td>\n",
       "      <td>0.0</td>\n",
       "      <td>0.0</td>\n",
       "      <td>43600.0</td>\n",
       "      <td>13202.0</td>\n",
       "      <td>40600.0</td>\n",
       "      <td>0.0</td>\n",
       "    </tr>\n",
       "    <tr>\n",
       "      <th>35347</th>\n",
       "      <td>25000</td>\n",
       "      <td>25000</td>\n",
       "      <td>25000.0</td>\n",
       "      <td>21.60</td>\n",
       "      <td>684.80</td>\n",
       "      <td>85000.0</td>\n",
       "      <td>0</td>\n",
       "      <td>21.68</td>\n",
       "      <td>0.0</td>\n",
       "      <td>0.0</td>\n",
       "      <td>...</td>\n",
       "      <td>0.0</td>\n",
       "      <td>1.0</td>\n",
       "      <td>100.0</td>\n",
       "      <td>80.0</td>\n",
       "      <td>0.0</td>\n",
       "      <td>0.0</td>\n",
       "      <td>81251.0</td>\n",
       "      <td>54384.0</td>\n",
       "      <td>18300.0</td>\n",
       "      <td>56951.0</td>\n",
       "    </tr>\n",
       "    <tr>\n",
       "      <th>35348</th>\n",
       "      <td>4800</td>\n",
       "      <td>4800</td>\n",
       "      <td>4800.0</td>\n",
       "      <td>12.35</td>\n",
       "      <td>160.24</td>\n",
       "      <td>60000.0</td>\n",
       "      <td>1</td>\n",
       "      <td>3.34</td>\n",
       "      <td>1.0</td>\n",
       "      <td>0.0</td>\n",
       "      <td>...</td>\n",
       "      <td>0.0</td>\n",
       "      <td>2.0</td>\n",
       "      <td>88.0</td>\n",
       "      <td>50.0</td>\n",
       "      <td>0.0</td>\n",
       "      <td>0.0</td>\n",
       "      <td>248143.0</td>\n",
       "      <td>5410.0</td>\n",
       "      <td>5400.0</td>\n",
       "      <td>8554.0</td>\n",
       "    </tr>\n",
       "    <tr>\n",
       "      <th>35349</th>\n",
       "      <td>15000</td>\n",
       "      <td>15000</td>\n",
       "      <td>15000.0</td>\n",
       "      <td>23.99</td>\n",
       "      <td>588.42</td>\n",
       "      <td>70000.0</td>\n",
       "      <td>1</td>\n",
       "      <td>15.64</td>\n",
       "      <td>0.0</td>\n",
       "      <td>2.0</td>\n",
       "      <td>...</td>\n",
       "      <td>0.0</td>\n",
       "      <td>1.0</td>\n",
       "      <td>84.2</td>\n",
       "      <td>66.7</td>\n",
       "      <td>0.0</td>\n",
       "      <td>0.0</td>\n",
       "      <td>375964.0</td>\n",
       "      <td>42324.0</td>\n",
       "      <td>12700.0</td>\n",
       "      <td>41480.0</td>\n",
       "    </tr>\n",
       "    <tr>\n",
       "      <th>35350</th>\n",
       "      <td>4000</td>\n",
       "      <td>4000</td>\n",
       "      <td>4000.0</td>\n",
       "      <td>12.74</td>\n",
       "      <td>134.28</td>\n",
       "      <td>30000.0</td>\n",
       "      <td>0</td>\n",
       "      <td>20.40</td>\n",
       "      <td>2.0</td>\n",
       "      <td>0.0</td>\n",
       "      <td>...</td>\n",
       "      <td>NaN</td>\n",
       "      <td>NaN</td>\n",
       "      <td>NaN</td>\n",
       "      <td>NaN</td>\n",
       "      <td>NaN</td>\n",
       "      <td>NaN</td>\n",
       "      <td>NaN</td>\n",
       "      <td>NaN</td>\n",
       "      <td>NaN</td>\n",
       "      <td>NaN</td>\n",
       "    </tr>\n",
       "  </tbody>\n",
       "</table>\n",
       "<p>35351 rows × 66 columns</p>\n",
       "</div>"
      ],
      "text/plain": [
       "       loan_amnt  funded_amnt  funded_amnt_inv  int_rate  installment  \\\n",
       "0          22000        22000          22000.0      9.17       701.34   \n",
       "1           8000         8000           8000.0      5.32       240.92   \n",
       "2           6000         6000           6000.0      9.75       192.90   \n",
       "3           5300         5300           5300.0     12.39       177.03   \n",
       "4           8000         8000           8000.0     12.49       267.60   \n",
       "...          ...          ...              ...       ...          ...   \n",
       "35346      10000        10000          10000.0      9.93       322.35   \n",
       "35347      25000        25000          25000.0     21.60       684.80   \n",
       "35348       4800         4800           4800.0     12.35       160.24   \n",
       "35349      15000        15000          15000.0     23.99       588.42   \n",
       "35350       4000         4000           4000.0     12.74       134.28   \n",
       "\n",
       "       annual_inc  loan_status    dti  delinq_2yrs  inq_last_6mths  ...  \\\n",
       "0         73000.0            0  13.16          0.0             2.0  ...   \n",
       "1         89000.0            0   6.63          0.0             0.0  ...   \n",
       "2         65000.0            0  24.26          0.0             0.0  ...   \n",
       "3         53486.0            0  32.87          0.0             0.0  ...   \n",
       "4         72550.0            0  10.72          0.0             0.0  ...   \n",
       "...           ...          ...    ...          ...             ...  ...   \n",
       "35346     45000.0            1   5.09          0.0             1.0  ...   \n",
       "35347     85000.0            0  21.68          0.0             0.0  ...   \n",
       "35348     60000.0            1   3.34          1.0             0.0  ...   \n",
       "35349     70000.0            1  15.64          0.0             2.0  ...   \n",
       "35350     30000.0            0  20.40          2.0             0.0  ...   \n",
       "\n",
       "       num_tl_90g_dpd_24m  num_tl_op_past_12m  pct_tl_nvr_dlq  \\\n",
       "0                     0.0                 2.0            90.9   \n",
       "1                     0.0                 1.0           100.0   \n",
       "2                     0.0                 2.0           100.0   \n",
       "3                     0.0                 2.0           100.0   \n",
       "4                     0.0                 1.0            60.0   \n",
       "...                   ...                 ...             ...   \n",
       "35346                 0.0                 3.0           100.0   \n",
       "35347                 0.0                 1.0           100.0   \n",
       "35348                 0.0                 2.0            88.0   \n",
       "35349                 0.0                 1.0            84.2   \n",
       "35350                 NaN                 NaN             NaN   \n",
       "\n",
       "       percent_bc_gt_75  pub_rec_bankruptcies  tax_liens  tot_hi_cred_lim  \\\n",
       "0                  50.0                   0.0        0.0          56900.0   \n",
       "1                   0.0                   1.0        0.0         236146.0   \n",
       "2                  33.3                   0.0        0.0          89841.0   \n",
       "3                  50.0                   0.0        0.0         233175.0   \n",
       "4                 100.0                   0.0        0.0         211884.0   \n",
       "...                 ...                   ...        ...              ...   \n",
       "35346              20.0                   0.0        0.0          43600.0   \n",
       "35347              80.0                   0.0        0.0          81251.0   \n",
       "35348              50.0                   0.0        0.0         248143.0   \n",
       "35349              66.7                   0.0        0.0         375964.0   \n",
       "35350               NaN                   NaN        NaN              NaN   \n",
       "\n",
       "       total_bal_ex_mort  total_bc_limit  total_il_high_credit_limit  \n",
       "0                33797.0         47600.0                         0.0  \n",
       "1                17380.0         10500.0                     18039.0  \n",
       "2                41070.0         16000.0                     32641.0  \n",
       "3                42735.0         17300.0                     22828.0  \n",
       "4                 8147.0          6200.0                     17684.0  \n",
       "...                  ...             ...                         ...  \n",
       "35346            13202.0         40600.0                         0.0  \n",
       "35347            54384.0         18300.0                     56951.0  \n",
       "35348             5410.0          5400.0                      8554.0  \n",
       "35349            42324.0         12700.0                     41480.0  \n",
       "35350                NaN             NaN                         NaN  \n",
       "\n",
       "[35351 rows x 66 columns]"
      ]
     },
     "execution_count": 15,
     "metadata": {},
     "output_type": "execute_result"
    }
   ],
   "source": [
    "df._get_numeric_data()"
   ]
  },
  {
   "cell_type": "code",
   "execution_count": 16,
   "metadata": {},
   "outputs": [
    {
     "data": {
      "text/plain": [
       "total_rec_prncp           -0.443425\n",
       "last_pymnt_amnt           -0.349379\n",
       "total_pymnt               -0.322884\n",
       "total_pymnt_inv           -0.322306\n",
       "bc_open_to_buy            -0.083631\n",
       "                             ...   \n",
       "int_rate                   0.257028\n",
       "collection_recovery_fee    0.480366\n",
       "recoveries                 0.503257\n",
       "loan_status                1.000000\n",
       "policy_code                     NaN\n",
       "Name: loan_status, Length: 66, dtype: float64"
      ]
     },
     "execution_count": 16,
     "metadata": {},
     "output_type": "execute_result"
    }
   ],
   "source": [
    "corr=df._get_numeric_data().corr()['loan_status']\n",
    "corr.sort_values()"
   ]
  },
  {
   "cell_type": "markdown",
   "metadata": {},
   "source": [
    "# Feature Selection & Cleaning\n",
    "The following variables were selected based on their correlation with the 'loan_status'. Only numeric variables were chosen for this model."
   ]
  },
  {
   "cell_type": "code",
   "execution_count": 17,
   "metadata": {},
   "outputs": [],
   "source": [
    "col = ['int_rate','collection_recovery_fee','recoveries','installment',\n",
    "          'chargeoff_within_12_mths','total_bc_limit',\n",
    "          'total_rec_late_fee','dti', 'delinq_2yrs','loan_amnt','acc_now_delinq','annual_inc',\n",
    "        'total_pymnt','total_pymnt_inv','total_rec_prncp','last_pymnt_amnt']"
   ]
  },
  {
   "cell_type": "code",
   "execution_count": 18,
   "metadata": {},
   "outputs": [
    {
     "data": {
      "text/plain": [
       "int_rate                       0\n",
       "collection_recovery_fee        0\n",
       "recoveries                     0\n",
       "installment                    0\n",
       "chargeoff_within_12_mths       3\n",
       "total_bc_limit              1198\n",
       "total_rec_late_fee             0\n",
       "dti                            7\n",
       "delinq_2yrs                    0\n",
       "loan_amnt                      0\n",
       "acc_now_delinq                 0\n",
       "annual_inc                     0\n",
       "total_pymnt                    0\n",
       "total_pymnt_inv                0\n",
       "total_rec_prncp                0\n",
       "last_pymnt_amnt                0\n",
       "dtype: int64"
      ]
     },
     "execution_count": 18,
     "metadata": {},
     "output_type": "execute_result"
    }
   ],
   "source": [
    "df[col].isna().sum()"
   ]
  },
  {
   "cell_type": "code",
   "execution_count": 19,
   "metadata": {},
   "outputs": [],
   "source": [
    "int = df.select_dtypes(include=['float64','int64'])\n",
    "int = int.fillna(0)"
   ]
  },
  {
   "cell_type": "code",
   "execution_count": 20,
   "metadata": {},
   "outputs": [
    {
     "data": {
      "text/plain": [
       "(35351, 16)"
      ]
     },
     "execution_count": 20,
     "metadata": {},
     "output_type": "execute_result"
    }
   ],
   "source": [
    "data = int[col].applymap(np.int64)\n",
    "data.shape"
   ]
  },
  {
   "cell_type": "markdown",
   "metadata": {},
   "source": [
    "# Predictive Modelling"
   ]
  },
  {
   "cell_type": "code",
   "execution_count": 21,
   "metadata": {},
   "outputs": [],
   "source": [
    "X = data"
   ]
  },
  {
   "cell_type": "code",
   "execution_count": 22,
   "metadata": {},
   "outputs": [],
   "source": [
    "y = df['loan_status']"
   ]
  },
  {
   "cell_type": "code",
   "execution_count": 23,
   "metadata": {},
   "outputs": [],
   "source": [
    "X_train, X_test, y_train, y_test = train_test_split(X, y, test_size=0.30, random_state=42, stratify=y)"
   ]
  },
  {
   "cell_type": "markdown",
   "metadata": {},
   "source": [
    "### Logistic Regression"
   ]
  },
  {
   "cell_type": "code",
   "execution_count": 24,
   "metadata": {},
   "outputs": [
    {
     "name": "stderr",
     "output_type": "stream",
     "text": [
      "C:\\Users\\GOLDSTEIN VENTURES\\Anaconda3\\lib\\site-packages\\sklearn\\linear_model\\logistic.py:432: FutureWarning: Default solver will be changed to 'lbfgs' in 0.22. Specify a solver to silence this warning.\n",
      "  FutureWarning)\n"
     ]
    },
    {
     "data": {
      "text/plain": [
       "LogisticRegression(C=1.0, class_weight=None, dual=False, fit_intercept=True,\n",
       "                   intercept_scaling=1, l1_ratio=None, max_iter=100,\n",
       "                   multi_class='warn', n_jobs=None, penalty='l2',\n",
       "                   random_state=None, solver='warn', tol=0.0001, verbose=0,\n",
       "                   warm_start=False)"
      ]
     },
     "execution_count": 24,
     "metadata": {},
     "output_type": "execute_result"
    }
   ],
   "source": [
    "lr = LogisticRegression()\n",
    "lr.fit(X_train, y_train)"
   ]
  },
  {
   "cell_type": "code",
   "execution_count": 25,
   "metadata": {},
   "outputs": [
    {
     "data": {
      "text/plain": [
       "0.9972519700949687"
      ]
     },
     "execution_count": 25,
     "metadata": {},
     "output_type": "execute_result"
    }
   ],
   "source": [
    "pred_status1 = lr.predict(X_train)\n",
    "metrics.accuracy_score(y_train,pred_status1)"
   ]
  },
  {
   "cell_type": "code",
   "execution_count": 26,
   "metadata": {},
   "outputs": [
    {
     "data": {
      "text/plain": [
       "0.996888553648878"
      ]
     },
     "execution_count": 26,
     "metadata": {},
     "output_type": "execute_result"
    }
   ],
   "source": [
    "pred_status2 = lr.predict(X_test)\n",
    "metrics.accuracy_score(y_test,pred_status2)"
   ]
  },
  {
   "cell_type": "code",
   "execution_count": 27,
   "metadata": {},
   "outputs": [
    {
     "name": "stdout",
     "output_type": "stream",
     "text": [
      "              precision    recall  f1-score   support\n",
      "\n",
      "           0       1.00      1.00      1.00      8490\n",
      "           1       1.00      0.99      0.99      2116\n",
      "\n",
      "    accuracy                           1.00     10606\n",
      "   macro avg       1.00      0.99      1.00     10606\n",
      "weighted avg       1.00      1.00      1.00     10606\n",
      "\n"
     ]
    }
   ],
   "source": [
    "print(metrics.classification_report(y_test, pred_status2))"
   ]
  },
  {
   "cell_type": "code",
   "execution_count": 28,
   "metadata": {},
   "outputs": [
    {
     "data": {
      "text/plain": [
       "array([[8482,    8],\n",
       "       [  25, 2091]], dtype=int64)"
      ]
     },
     "execution_count": 28,
     "metadata": {},
     "output_type": "execute_result"
    }
   ],
   "source": [
    "metrics.confusion_matrix(y_test, pred_status2)"
   ]
  },
  {
   "cell_type": "markdown",
   "metadata": {},
   "source": [
    "### Random Forest"
   ]
  },
  {
   "cell_type": "code",
   "execution_count": 29,
   "metadata": {},
   "outputs": [
    {
     "name": "stderr",
     "output_type": "stream",
     "text": [
      "C:\\Users\\GOLDSTEIN VENTURES\\Anaconda3\\lib\\site-packages\\sklearn\\ensemble\\forest.py:245: FutureWarning: The default value of n_estimators will change from 10 in version 0.20 to 100 in 0.22.\n",
      "  \"10 in version 0.20 to 100 in 0.22.\", FutureWarning)\n"
     ]
    },
    {
     "data": {
      "text/plain": [
       "RandomForestClassifier(bootstrap=True, class_weight=None, criterion='gini',\n",
       "                       max_depth=None, max_features='auto', max_leaf_nodes=None,\n",
       "                       min_impurity_decrease=0.0, min_impurity_split=None,\n",
       "                       min_samples_leaf=1, min_samples_split=2,\n",
       "                       min_weight_fraction_leaf=0.0, n_estimators=10,\n",
       "                       n_jobs=None, oob_score=False, random_state=None,\n",
       "                       verbose=0, warm_start=False)"
      ]
     },
     "execution_count": 29,
     "metadata": {},
     "output_type": "execute_result"
    }
   ],
   "source": [
    "rf = RandomForestClassifier()\n",
    "rf.fit(X_train,y_train)"
   ]
  },
  {
   "cell_type": "code",
   "execution_count": 30,
   "metadata": {},
   "outputs": [
    {
     "data": {
      "text/plain": [
       "0.9993129925237422"
      ]
     },
     "execution_count": 30,
     "metadata": {},
     "output_type": "execute_result"
    }
   ],
   "source": [
    "rf_pred = rf.predict(X_train)\n",
    "metrics.accuracy_score(y_train,rf_pred)"
   ]
  },
  {
   "cell_type": "code",
   "execution_count": 31,
   "metadata": {},
   "outputs": [
    {
     "data": {
      "text/plain": [
       "0.9942485385630775"
      ]
     },
     "execution_count": 31,
     "metadata": {},
     "output_type": "execute_result"
    }
   ],
   "source": [
    "rf_pred1 = rf.predict(X_test)\n",
    "metrics.accuracy_score(y_test,rf_pred1)"
   ]
  },
  {
   "cell_type": "code",
   "execution_count": 32,
   "metadata": {},
   "outputs": [
    {
     "name": "stdout",
     "output_type": "stream",
     "text": [
      "              precision    recall  f1-score   support\n",
      "\n",
      "           0       0.99      1.00      1.00      8490\n",
      "           1       1.00      0.97      0.99      2116\n",
      "\n",
      "    accuracy                           0.99     10606\n",
      "   macro avg       1.00      0.99      0.99     10606\n",
      "weighted avg       0.99      0.99      0.99     10606\n",
      "\n"
     ]
    }
   ],
   "source": [
    "print(metrics.classification_report(y_test, rf_pred1))"
   ]
  },
  {
   "cell_type": "code",
   "execution_count": 33,
   "metadata": {},
   "outputs": [
    {
     "data": {
      "text/plain": [
       "array([[8489,    1],\n",
       "       [  60, 2056]], dtype=int64)"
      ]
     },
     "execution_count": 33,
     "metadata": {},
     "output_type": "execute_result"
    }
   ],
   "source": [
    "metrics.confusion_matrix(y_test, rf_pred1)"
   ]
  },
  {
   "cell_type": "markdown",
   "metadata": {},
   "source": [
    "## Scaling"
   ]
  },
  {
   "cell_type": "code",
   "execution_count": 34,
   "metadata": {},
   "outputs": [],
   "source": [
    "from sklearn.preprocessing import MinMaxScaler, StandardScaler"
   ]
  },
  {
   "cell_type": "code",
   "execution_count": 35,
   "metadata": {},
   "outputs": [],
   "source": [
    "min_max = MinMaxScaler()\n",
    "X_train_Scale1 = min_max.fit_transform(X_train)\n",
    "X_test_Scale1 = min_max.transform(X_test)"
   ]
  },
  {
   "cell_type": "code",
   "execution_count": 36,
   "metadata": {},
   "outputs": [],
   "source": [
    "ss = StandardScaler()\n",
    "X_train_Scale2 = ss.fit_transform(X_train)\n",
    "X_test_Scale2 = ss.transform(X_test)"
   ]
  },
  {
   "cell_type": "code",
   "execution_count": 37,
   "metadata": {},
   "outputs": [],
   "source": [
    "X_train_Scale1 = pd.DataFrame(X_train_Scale1, columns=col)"
   ]
  },
  {
   "cell_type": "code",
   "execution_count": 38,
   "metadata": {},
   "outputs": [],
   "source": [
    "X_train_Scale2 = pd.DataFrame(X_train_Scale2, columns=col)"
   ]
  },
  {
   "cell_type": "markdown",
   "metadata": {},
   "source": [
    "### Logistic Regression (Min_Max Scaler)"
   ]
  },
  {
   "cell_type": "code",
   "execution_count": 39,
   "metadata": {
    "scrolled": true
   },
   "outputs": [
    {
     "name": "stderr",
     "output_type": "stream",
     "text": [
      "C:\\Users\\GOLDSTEIN VENTURES\\Anaconda3\\lib\\site-packages\\sklearn\\linear_model\\logistic.py:432: FutureWarning: Default solver will be changed to 'lbfgs' in 0.22. Specify a solver to silence this warning.\n",
      "  FutureWarning)\n"
     ]
    },
    {
     "data": {
      "text/plain": [
       "LogisticRegression(C=1.0, class_weight=None, dual=False, fit_intercept=True,\n",
       "                   intercept_scaling=1, l1_ratio=None, max_iter=100,\n",
       "                   multi_class='warn', n_jobs=None, penalty='l2',\n",
       "                   random_state=None, solver='warn', tol=0.0001, verbose=0,\n",
       "                   warm_start=False)"
      ]
     },
     "execution_count": 39,
     "metadata": {},
     "output_type": "execute_result"
    }
   ],
   "source": [
    "lr.fit(X_train_Scale1, y_train)"
   ]
  },
  {
   "cell_type": "code",
   "execution_count": 40,
   "metadata": {},
   "outputs": [
    {
     "data": {
      "text/plain": [
       "0.9801576075974945"
      ]
     },
     "execution_count": 40,
     "metadata": {},
     "output_type": "execute_result"
    }
   ],
   "source": [
    "pred = lr.predict(X_train_Scale1)\n",
    "metrics.accuracy_score(y_train,pred)"
   ]
  },
  {
   "cell_type": "code",
   "execution_count": 41,
   "metadata": {},
   "outputs": [
    {
     "data": {
      "text/plain": [
       "0.9799170280973034"
      ]
     },
     "execution_count": 41,
     "metadata": {},
     "output_type": "execute_result"
    }
   ],
   "source": [
    "pred2 = lr.predict(X_test_Scale1)\n",
    "metrics.accuracy_score(y_test,pred2)"
   ]
  },
  {
   "cell_type": "code",
   "execution_count": 42,
   "metadata": {},
   "outputs": [
    {
     "data": {
      "text/plain": [
       "array([[8485,    5],\n",
       "       [ 208, 1908]], dtype=int64)"
      ]
     },
     "execution_count": 42,
     "metadata": {},
     "output_type": "execute_result"
    }
   ],
   "source": [
    "metrics.confusion_matrix(y_test, pred2)"
   ]
  },
  {
   "cell_type": "markdown",
   "metadata": {},
   "source": [
    "### Random Forest (Min_Max Scaler)"
   ]
  },
  {
   "cell_type": "code",
   "execution_count": 43,
   "metadata": {},
   "outputs": [
    {
     "data": {
      "text/plain": [
       "RandomForestClassifier(bootstrap=True, class_weight=None, criterion='gini',\n",
       "                       max_depth=None, max_features='auto', max_leaf_nodes=None,\n",
       "                       min_impurity_decrease=0.0, min_impurity_split=None,\n",
       "                       min_samples_leaf=1, min_samples_split=2,\n",
       "                       min_weight_fraction_leaf=0.0, n_estimators=10,\n",
       "                       n_jobs=None, oob_score=False, random_state=None,\n",
       "                       verbose=0, warm_start=False)"
      ]
     },
     "execution_count": 43,
     "metadata": {},
     "output_type": "execute_result"
    }
   ],
   "source": [
    "rf.fit(X_train_Scale1, y_train)"
   ]
  },
  {
   "cell_type": "code",
   "execution_count": 44,
   "metadata": {},
   "outputs": [
    {
     "data": {
      "text/plain": [
       "0.9801576075974945"
      ]
     },
     "execution_count": 44,
     "metadata": {},
     "output_type": "execute_result"
    }
   ],
   "source": [
    "pred_rf = lr.predict(X_train_Scale1)\n",
    "metrics.accuracy_score(y_train,pred_rf)"
   ]
  },
  {
   "cell_type": "code",
   "execution_count": 45,
   "metadata": {},
   "outputs": [
    {
     "data": {
      "text/plain": [
       "0.9799170280973034"
      ]
     },
     "execution_count": 45,
     "metadata": {},
     "output_type": "execute_result"
    }
   ],
   "source": [
    "pred2_rf = lr.predict(X_test_Scale1)\n",
    "metrics.accuracy_score(y_test,pred2_rf)"
   ]
  },
  {
   "cell_type": "code",
   "execution_count": 46,
   "metadata": {},
   "outputs": [
    {
     "data": {
      "text/plain": [
       "array([[8485,    5],\n",
       "       [ 208, 1908]], dtype=int64)"
      ]
     },
     "execution_count": 46,
     "metadata": {},
     "output_type": "execute_result"
    }
   ],
   "source": [
    "metrics.confusion_matrix(y_test, pred2_rf)"
   ]
  },
  {
   "cell_type": "markdown",
   "metadata": {},
   "source": [
    "### Logistic Regression (Standard Scaler)"
   ]
  },
  {
   "cell_type": "code",
   "execution_count": 47,
   "metadata": {},
   "outputs": [
    {
     "name": "stderr",
     "output_type": "stream",
     "text": [
      "C:\\Users\\GOLDSTEIN VENTURES\\Anaconda3\\lib\\site-packages\\sklearn\\linear_model\\logistic.py:432: FutureWarning: Default solver will be changed to 'lbfgs' in 0.22. Specify a solver to silence this warning.\n",
      "  FutureWarning)\n"
     ]
    },
    {
     "data": {
      "text/plain": [
       "0.9934936350777935"
      ]
     },
     "execution_count": 47,
     "metadata": {},
     "output_type": "execute_result"
    }
   ],
   "source": [
    "lr.fit(X_train_Scale2, y_train)\n",
    "pred_ss = lr.predict(X_train_Scale2)\n",
    "metrics.accuracy_score(y_train,pred_ss)"
   ]
  },
  {
   "cell_type": "code",
   "execution_count": 48,
   "metadata": {},
   "outputs": [
    {
     "data": {
      "text/plain": [
       "0.9519140109372054"
      ]
     },
     "execution_count": 48,
     "metadata": {},
     "output_type": "execute_result"
    }
   ],
   "source": [
    "pred2_ss = lr.predict(X_test_Scale1)\n",
    "metrics.accuracy_score(y_test,pred2_ss)"
   ]
  },
  {
   "cell_type": "code",
   "execution_count": 49,
   "metadata": {},
   "outputs": [
    {
     "data": {
      "text/plain": [
       "array([[8489,    1],\n",
       "       [ 509, 1607]], dtype=int64)"
      ]
     },
     "execution_count": 49,
     "metadata": {},
     "output_type": "execute_result"
    }
   ],
   "source": [
    "metrics.confusion_matrix(y_test, pred2_ss)"
   ]
  },
  {
   "cell_type": "markdown",
   "metadata": {},
   "source": [
    "### Random Forest (Standard Scaler)"
   ]
  },
  {
   "cell_type": "code",
   "execution_count": 50,
   "metadata": {},
   "outputs": [
    {
     "data": {
      "text/plain": [
       "0.9934936350777935"
      ]
     },
     "execution_count": 50,
     "metadata": {},
     "output_type": "execute_result"
    }
   ],
   "source": [
    "rf.fit(X_train_Scale2, y_train)\n",
    "pred_rf_ss = lr.predict(X_train_Scale2)\n",
    "metrics.accuracy_score(y_train,pred_rf_ss)"
   ]
  },
  {
   "cell_type": "code",
   "execution_count": 51,
   "metadata": {},
   "outputs": [
    {
     "data": {
      "text/plain": [
       "0.9519140109372054"
      ]
     },
     "execution_count": 51,
     "metadata": {},
     "output_type": "execute_result"
    }
   ],
   "source": [
    "pred2_rf_ss = lr.predict(X_test_Scale1)\n",
    "metrics.accuracy_score(y_test,pred2_rf_ss)"
   ]
  },
  {
   "cell_type": "code",
   "execution_count": 52,
   "metadata": {},
   "outputs": [
    {
     "data": {
      "text/plain": [
       "array([[8489,    1],\n",
       "       [ 509, 1607]], dtype=int64)"
      ]
     },
     "execution_count": 52,
     "metadata": {},
     "output_type": "execute_result"
    }
   ],
   "source": [
    "metrics.confusion_matrix(y_test, pred2_rf_ss)"
   ]
  },
  {
   "cell_type": "markdown",
   "metadata": {},
   "source": [
    "After building the various models, i decided to choose the logistic regression model since it had the most favourable confusion matrix which directly enforces our objectives."
   ]
  }
 ],
 "metadata": {
  "kernelspec": {
   "display_name": "Python 3",
   "language": "python",
   "name": "python3"
  },
  "language_info": {
   "codemirror_mode": {
    "name": "ipython",
    "version": 3
   },
   "file_extension": ".py",
   "mimetype": "text/x-python",
   "name": "python",
   "nbconvert_exporter": "python",
   "pygments_lexer": "ipython3",
   "version": "3.7.4"
  }
 },
 "nbformat": 4,
 "nbformat_minor": 2
}
